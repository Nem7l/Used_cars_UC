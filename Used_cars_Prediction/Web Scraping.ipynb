{
 "cells": [
  {
   "cell_type": "markdown",
   "id": "worst-sally",
   "metadata": {},
   "source": [
    "### Web scrapping for [Sayarh Website](https://syarah.com)"
   ]
  },
  {
   "cell_type": "code",
   "execution_count": 1,
   "id": "complimentary-harvard",
   "metadata": {},
   "outputs": [],
   "source": [
    "import requests\n",
    "from bs4 import BeautifulSoup\n",
    "from selenium import webdriver  \n",
    "import pandas as pd"
   ]
  },
  {
   "cell_type": "markdown",
   "id": "338604af-c89b-4c3f-92f2-85dec04c0f78",
   "metadata": {},
   "source": [
    "#### Use only BeautifulSoup"
   ]
  },
  {
   "cell_type": "code",
   "execution_count": 2,
   "id": "yellow-matter",
   "metadata": {},
   "outputs": [
    {
     "name": "stdout",
     "output_type": "stream",
     "text": [
      "200\n"
     ]
    }
   ],
   "source": [
    "url = 'https://syarah.com/filters?condition_id=0'\n",
    "page = requests.get(url)\n",
    "print(page.status_code)"
   ]
  },
  {
   "cell_type": "code",
   "execution_count": 3,
   "id": "b30421a2-2400-454c-bf79-759f878c07ac",
   "metadata": {},
   "outputs": [
    {
     "name": "stdout",
     "output_type": "stream",
     "text": [
      "<class 'str'>\n"
     ]
    }
   ],
   "source": [
    "print(type(page.text))\n",
    "#print(page.text)"
   ]
  },
  {
   "cell_type": "code",
   "execution_count": 5,
   "id": "d12f7158-d37d-4c17-8a32-ef0148eed24a",
   "metadata": {},
   "outputs": [
    {
     "name": "stdout",
     "output_type": "stream",
     "text": [
      "<class 'bs4.BeautifulSoup'>\n"
     ]
    }
   ],
   "source": [
    "soup = BeautifulSoup(page.content, 'html.parser')\n",
    "print(type(soup))\n",
    "#soup"
   ]
  },
  {
   "cell_type": "code",
   "execution_count": 6,
   "id": "7e8cfded-9678-44f7-bed2-67746b5d069b",
   "metadata": {},
   "outputs": [
    {
     "data": {
      "text/plain": [
       "'سيارات مستعملة للبيع في السعودية - سيارات جديدة: أفضل سعر | موقع سيارة '"
      ]
     },
     "execution_count": 6,
     "metadata": {},
     "output_type": "execute_result"
    }
   ],
   "source": [
    "page_title = soup.title.text # gets you the text of the <title>(...)</title>\n",
    "page_title"
   ]
  },
  {
   "cell_type": "code",
   "execution_count": 7,
   "id": "e05a9913-69f2-4ca1-ae3f-c8d8251986f9",
   "metadata": {},
   "outputs": [],
   "source": [
    "# Extract body of page\n",
    "page_body = soup.body\n",
    "#page_body "
   ]
  },
  {
   "cell_type": "code",
   "execution_count": 16,
   "id": "3be1c7dc-27c0-4f8a-a7d9-734295e018ca",
   "metadata": {},
   "outputs": [
    {
     "data": {
      "text/plain": [
       "[]"
      ]
     },
     "execution_count": 16,
     "metadata": {},
     "output_type": "execute_result"
    }
   ],
   "source": [
    "# extract car names\n",
    "divs = soup.find_all('h2', {'class':\"CardBody-module__title interActiveGray\"})\n",
    "\n",
    "divs"
   ]
  },
  {
   "cell_type": "code",
   "execution_count": 18,
   "id": "49a0eda8",
   "metadata": {},
   "outputs": [],
   "source": [
    "mileage_elements = soup.find_all('span', class_='mileage')"
   ]
  },
  {
   "cell_type": "markdown",
   "id": "c2880a8e-5578-463a-89f9-6134f1c1022e",
   "metadata": {},
   "source": [
    "#### Try selenium"
   ]
  },
  {
   "cell_type": "code",
   "execution_count": 23,
   "id": "7ac040e6-bc27-44f3-ba01-ee4e0c63bdc9",
   "metadata": {},
   "outputs": [],
   "source": [
    "driver = webdriver.Chrome()\n",
    "# request the page \n",
    "driver.get(url)\n",
    "\n",
    "        # extract the body and parse it\n",
    "soup = BeautifulSoup(driver.page_source, \"html.parser\")\n",
    "driver.quit()"
   ]
  },
  {
   "cell_type": "code",
   "execution_count": 24,
   "id": "61a8ad8e",
   "metadata": {},
   "outputs": [],
   "source": [
    "mileages = []\n",
    "for mileage_element in mileage_elements:\n",
    "    mileage = mileage_element.text.strip()\n",
    "    mileages.append(mileage)\n"
   ]
  },
  {
   "cell_type": "code",
   "execution_count": 25,
   "id": "78d3e5dd",
   "metadata": {},
   "outputs": [],
   "source": [
    "for mileage in mileages:\n",
    "    print(f\"Mileage: {mileage}\")"
   ]
  },
  {
   "cell_type": "code",
   "execution_count": 26,
   "id": "6e8d94c1-0c0a-4d28-a89a-25f9f2e1c330",
   "metadata": {},
   "outputs": [
    {
     "ename": "WebDriverException",
     "evalue": "Message: unknown error: net::ERR_INTERNET_DISCONNECTED\n  (Session info: chrome=125.0.6422.113)\nStacktrace:\n0   chromedriver                        0x0000000104f4e510 chromedriver + 4302096\n1   chromedriver                        0x0000000104f46e58 chromedriver + 4271704\n2   chromedriver                        0x0000000104b7819c chromedriver + 278940\n3   chromedriver                        0x0000000104b71510 chromedriver + 251152\n4   chromedriver                        0x0000000104b63120 chromedriver + 192800\n5   chromedriver                        0x0000000104b64480 chromedriver + 197760\n6   chromedriver                        0x0000000104b6343c chromedriver + 193596\n7   chromedriver                        0x0000000104b62ad0 chromedriver + 191184\n8   chromedriver                        0x0000000104b62a7c chromedriver + 191100\n9   chromedriver                        0x0000000104b6085c chromedriver + 182364\n10  chromedriver                        0x0000000104b611dc chromedriver + 184796\n11  chromedriver                        0x0000000104b7a730 chromedriver + 288560\n12  chromedriver                        0x0000000104bf3400 chromedriver + 783360\n13  chromedriver                        0x0000000104bf2c5c chromedriver + 781404\n14  chromedriver                        0x0000000104baf004 chromedriver + 503812\n15  chromedriver                        0x0000000104baf9ec chromedriver + 506348\n16  chromedriver                        0x0000000104f16558 chromedriver + 4072792\n17  chromedriver                        0x0000000104f1b004 chromedriver + 4091908\n18  chromedriver                        0x0000000104efd79c chromedriver + 3970972\n19  chromedriver                        0x0000000104f1b8ec chromedriver + 4094188\n20  chromedriver                        0x0000000104ef071c chromedriver + 3917596\n21  chromedriver                        0x0000000104f38b50 chromedriver + 4213584\n22  chromedriver                        0x0000000104f38ccc chromedriver + 4213964\n23  chromedriver                        0x0000000104f46a50 chromedriver + 4270672\n24  libsystem_pthread.dylib             0x000000018b45ef94 _pthread_start + 136\n25  libsystem_pthread.dylib             0x000000018b459d34 thread_start + 8\n",
     "output_type": "error",
     "traceback": [
      "\u001b[0;31m---------------------------------------------------------------------------\u001b[0m",
      "\u001b[0;31mWebDriverException\u001b[0m                        Traceback (most recent call last)",
      "Cell \u001b[0;32mIn[26], line 11\u001b[0m\n\u001b[1;32m      6\u001b[0m df \u001b[38;5;241m=\u001b[39m pd\u001b[38;5;241m.\u001b[39mDataFrame(columns\u001b[38;5;241m=\u001b[39mcolumns_)\n\u001b[1;32m      8\u001b[0m \u001b[38;5;28;01mfor\u001b[39;00m i \u001b[38;5;129;01min\u001b[39;00m \u001b[38;5;28mrange\u001b[39m(\u001b[38;5;241m2\u001b[39m, \u001b[38;5;241m200\u001b[39m):\n\u001b[1;32m      9\u001b[0m \n\u001b[1;32m     10\u001b[0m     \u001b[38;5;66;03m# request the page \u001b[39;00m\n\u001b[0;32m---> 11\u001b[0m     driver\u001b[38;5;241m.\u001b[39mget(url)\n\u001b[1;32m     13\u001b[0m     \u001b[38;5;66;03m# extract the body and parse it\u001b[39;00m\n\u001b[1;32m     14\u001b[0m     soup \u001b[38;5;241m=\u001b[39m BeautifulSoup(driver\u001b[38;5;241m.\u001b[39mpage_source, \u001b[38;5;124m\"\u001b[39m\u001b[38;5;124mhtml.parser\u001b[39m\u001b[38;5;124m\"\u001b[39m)\n",
      "File \u001b[0;32m/opt/anaconda3/lib/python3.11/site-packages/selenium/webdriver/remote/webdriver.py:356\u001b[0m, in \u001b[0;36mWebDriver.get\u001b[0;34m(self, url)\u001b[0m\n\u001b[1;32m    354\u001b[0m \u001b[38;5;28;01mdef\u001b[39;00m \u001b[38;5;21mget\u001b[39m(\u001b[38;5;28mself\u001b[39m, url: \u001b[38;5;28mstr\u001b[39m) \u001b[38;5;241m-\u001b[39m\u001b[38;5;241m>\u001b[39m \u001b[38;5;28;01mNone\u001b[39;00m:\n\u001b[1;32m    355\u001b[0m \u001b[38;5;250m    \u001b[39m\u001b[38;5;124;03m\"\"\"Loads a web page in the current browser session.\"\"\"\u001b[39;00m\n\u001b[0;32m--> 356\u001b[0m     \u001b[38;5;28mself\u001b[39m\u001b[38;5;241m.\u001b[39mexecute(Command\u001b[38;5;241m.\u001b[39mGET, {\u001b[38;5;124m\"\u001b[39m\u001b[38;5;124murl\u001b[39m\u001b[38;5;124m\"\u001b[39m: url})\n",
      "File \u001b[0;32m/opt/anaconda3/lib/python3.11/site-packages/selenium/webdriver/remote/webdriver.py:347\u001b[0m, in \u001b[0;36mWebDriver.execute\u001b[0;34m(self, driver_command, params)\u001b[0m\n\u001b[1;32m    345\u001b[0m response \u001b[38;5;241m=\u001b[39m \u001b[38;5;28mself\u001b[39m\u001b[38;5;241m.\u001b[39mcommand_executor\u001b[38;5;241m.\u001b[39mexecute(driver_command, params)\n\u001b[1;32m    346\u001b[0m \u001b[38;5;28;01mif\u001b[39;00m response:\n\u001b[0;32m--> 347\u001b[0m     \u001b[38;5;28mself\u001b[39m\u001b[38;5;241m.\u001b[39merror_handler\u001b[38;5;241m.\u001b[39mcheck_response(response)\n\u001b[1;32m    348\u001b[0m     response[\u001b[38;5;124m\"\u001b[39m\u001b[38;5;124mvalue\u001b[39m\u001b[38;5;124m\"\u001b[39m] \u001b[38;5;241m=\u001b[39m \u001b[38;5;28mself\u001b[39m\u001b[38;5;241m.\u001b[39m_unwrap_value(response\u001b[38;5;241m.\u001b[39mget(\u001b[38;5;124m\"\u001b[39m\u001b[38;5;124mvalue\u001b[39m\u001b[38;5;124m\"\u001b[39m, \u001b[38;5;28;01mNone\u001b[39;00m))\n\u001b[1;32m    349\u001b[0m     \u001b[38;5;28;01mreturn\u001b[39;00m response\n",
      "File \u001b[0;32m/opt/anaconda3/lib/python3.11/site-packages/selenium/webdriver/remote/errorhandler.py:229\u001b[0m, in \u001b[0;36mErrorHandler.check_response\u001b[0;34m(self, response)\u001b[0m\n\u001b[1;32m    227\u001b[0m         alert_text \u001b[38;5;241m=\u001b[39m value[\u001b[38;5;124m\"\u001b[39m\u001b[38;5;124malert\u001b[39m\u001b[38;5;124m\"\u001b[39m]\u001b[38;5;241m.\u001b[39mget(\u001b[38;5;124m\"\u001b[39m\u001b[38;5;124mtext\u001b[39m\u001b[38;5;124m\"\u001b[39m)\n\u001b[1;32m    228\u001b[0m     \u001b[38;5;28;01mraise\u001b[39;00m exception_class(message, screen, stacktrace, alert_text)  \u001b[38;5;66;03m# type: ignore[call-arg]  # mypy is not smart enough here\u001b[39;00m\n\u001b[0;32m--> 229\u001b[0m \u001b[38;5;28;01mraise\u001b[39;00m exception_class(message, screen, stacktrace)\n",
      "\u001b[0;31mWebDriverException\u001b[0m: Message: unknown error: net::ERR_INTERNET_DISCONNECTED\n  (Session info: chrome=125.0.6422.113)\nStacktrace:\n0   chromedriver                        0x0000000104f4e510 chromedriver + 4302096\n1   chromedriver                        0x0000000104f46e58 chromedriver + 4271704\n2   chromedriver                        0x0000000104b7819c chromedriver + 278940\n3   chromedriver                        0x0000000104b71510 chromedriver + 251152\n4   chromedriver                        0x0000000104b63120 chromedriver + 192800\n5   chromedriver                        0x0000000104b64480 chromedriver + 197760\n6   chromedriver                        0x0000000104b6343c chromedriver + 193596\n7   chromedriver                        0x0000000104b62ad0 chromedriver + 191184\n8   chromedriver                        0x0000000104b62a7c chromedriver + 191100\n9   chromedriver                        0x0000000104b6085c chromedriver + 182364\n10  chromedriver                        0x0000000104b611dc chromedriver + 184796\n11  chromedriver                        0x0000000104b7a730 chromedriver + 288560\n12  chromedriver                        0x0000000104bf3400 chromedriver + 783360\n13  chromedriver                        0x0000000104bf2c5c chromedriver + 781404\n14  chromedriver                        0x0000000104baf004 chromedriver + 503812\n15  chromedriver                        0x0000000104baf9ec chromedriver + 506348\n16  chromedriver                        0x0000000104f16558 chromedriver + 4072792\n17  chromedriver                        0x0000000104f1b004 chromedriver + 4091908\n18  chromedriver                        0x0000000104efd79c chromedriver + 3970972\n19  chromedriver                        0x0000000104f1b8ec chromedriver + 4094188\n20  chromedriver                        0x0000000104ef071c chromedriver + 3917596\n21  chromedriver                        0x0000000104f38b50 chromedriver + 4213584\n22  chromedriver                        0x0000000104f38ccc chromedriver + 4213964\n23  chromedriver                        0x0000000104f46a50 chromedriver + 4270672\n24  libsystem_pthread.dylib             0x000000018b45ef94 _pthread_start + 136\n25  libsystem_pthread.dylib             0x000000018b459d34 thread_start + 8\n"
     ]
    }
   ],
   "source": [
    "# try 10 pages\n",
    "\n",
    "driver = webdriver.Chrome()\n",
    "url = 'https://syarah.com/filters?condition_id=0'\n",
    "columns_ = ['Names', 'Prices','Mileage']\n",
    "df = pd.DataFrame(columns=columns_)\n",
    "                  \n",
    "for i in range(2, 200):\n",
    "\n",
    "    # request the page \n",
    "    driver.get(url)\n",
    "\n",
    "    # extract the body and parse it\n",
    "    soup = BeautifulSoup(driver.page_source, \"html.parser\")\n",
    "\n",
    "    # extrace prices and ars names from page\n",
    "    prices = soup.find_all('strong', {'class':\"interActiveGreen\"})\n",
    "    names = soup.find_all('h2', {'class':\"CardBody-module__title interActiveGray\"})\n",
    "    span_element = soup.find('span', class_='CardFooter-module__tag')\n",
    "    # clean them\n",
    "    clean_prices = []\n",
    "    clean_names = []\n",
    "    for p, n, in zip(prices, names):\n",
    "        clean_prices.append(p.text)\n",
    "        clean_names.append(n.text)\n",
    "\n",
    "    # store them \n",
    "    new_rows_df = pd.DataFrame(\n",
    "        {\n",
    "            'Names': clean_names, \n",
    "            'Prices': clean_prices\n",
    "        })\n",
    "\n",
    "    df = pd.concat([df, new_rows_df], ignore_index=True)\n",
    "\n",
    "    # prepare new link\n",
    "    url = f\"https://syarah.com/filters?condition_id=0&page={i}\"\n",
    "driver.quit()"
   ]
  },
  {
   "cell_type": "code",
   "execution_count": 14,
   "id": "44012f2f-d981-4de6-855a-ac3f91eb5faa",
   "metadata": {},
   "outputs": [
    {
     "data": {
      "text/html": [
       "<div>\n",
       "<style scoped>\n",
       "    .dataframe tbody tr th:only-of-type {\n",
       "        vertical-align: middle;\n",
       "    }\n",
       "\n",
       "    .dataframe tbody tr th {\n",
       "        vertical-align: top;\n",
       "    }\n",
       "\n",
       "    .dataframe thead th {\n",
       "        text-align: right;\n",
       "    }\n",
       "</style>\n",
       "<table border=\"1\" class=\"dataframe\">\n",
       "  <thead>\n",
       "    <tr style=\"text-align: right;\">\n",
       "      <th></th>\n",
       "      <th>Names</th>\n",
       "      <th>Prices</th>\n",
       "      <th>Mileage</th>\n",
       "    </tr>\n",
       "  </thead>\n",
       "  <tbody>\n",
       "    <tr>\n",
       "      <th>0</th>\n",
       "      <td>فورد رينجر Double Cab 2019 دبل</td>\n",
       "      <td>47,900</td>\n",
       "      <td>NaN</td>\n",
       "    </tr>\n",
       "    <tr>\n",
       "      <th>1</th>\n",
       "      <td>ميتسوبيشي L200 DC 4x2 2020</td>\n",
       "      <td>57,000</td>\n",
       "      <td>NaN</td>\n",
       "    </tr>\n",
       "    <tr>\n",
       "      <th>2</th>\n",
       "      <td>نيسان ددسن GL 2016</td>\n",
       "      <td>38,400</td>\n",
       "      <td>NaN</td>\n",
       "    </tr>\n",
       "    <tr>\n",
       "      <th>3</th>\n",
       "      <td>فولكس فاجن تي روك ستايل 2021</td>\n",
       "      <td>69,400</td>\n",
       "      <td>NaN</td>\n",
       "    </tr>\n",
       "    <tr>\n",
       "      <th>4</th>\n",
       "      <td>فورد إسكورت Ambiente 2020</td>\n",
       "      <td>33,000</td>\n",
       "      <td>NaN</td>\n",
       "    </tr>\n",
       "    <tr>\n",
       "      <th>...</th>\n",
       "      <td>...</td>\n",
       "      <td>...</td>\n",
       "      <td>...</td>\n",
       "    </tr>\n",
       "    <tr>\n",
       "      <th>1711</th>\n",
       "      <td>نيسان صني Classic 2022</td>\n",
       "      <td>38,900</td>\n",
       "      <td>NaN</td>\n",
       "    </tr>\n",
       "    <tr>\n",
       "      <th>1712</th>\n",
       "      <td>ميتسوبيشي اتراج LL 2021</td>\n",
       "      <td>30,800</td>\n",
       "      <td>NaN</td>\n",
       "    </tr>\n",
       "    <tr>\n",
       "      <th>1713</th>\n",
       "      <td>هيونداي اكسنت Smart 2022</td>\n",
       "      <td>46,600</td>\n",
       "      <td>NaN</td>\n",
       "    </tr>\n",
       "    <tr>\n",
       "      <th>1714</th>\n",
       "      <td>كيا سيراتو L 2022</td>\n",
       "      <td>49,000</td>\n",
       "      <td>NaN</td>\n",
       "    </tr>\n",
       "    <tr>\n",
       "      <th>1715</th>\n",
       "      <td>ام جي 5 LUX 2022</td>\n",
       "      <td>36,100</td>\n",
       "      <td>NaN</td>\n",
       "    </tr>\n",
       "  </tbody>\n",
       "</table>\n",
       "<p>1716 rows × 3 columns</p>\n",
       "</div>"
      ],
      "text/plain": [
       "                               Names  Prices Mileage\n",
       "0     فورد رينجر Double Cab 2019 دبل  47,900     NaN\n",
       "1        ميتسوبيشي L200 DC 4x2 2020   57,000     NaN\n",
       "2                نيسان ددسن GL 2016   38,400     NaN\n",
       "3      فولكس فاجن تي روك ستايل 2021   69,400     NaN\n",
       "4         فورد إسكورت Ambiente 2020   33,000     NaN\n",
       "...                              ...     ...     ...\n",
       "1711         نيسان صني Classic 2022   38,900     NaN\n",
       "1712        ميتسوبيشي اتراج LL 2021   30,800     NaN\n",
       "1713       هيونداي اكسنت Smart 2022   46,600     NaN\n",
       "1714              كيا سيراتو L 2022   49,000     NaN\n",
       "1715               ام جي 5 LUX 2022   36,100     NaN\n",
       "\n",
       "[1716 rows x 3 columns]"
      ]
     },
     "execution_count": 14,
     "metadata": {},
     "output_type": "execute_result"
    }
   ],
   "source": [
    "df"
   ]
  }
 ],
 "metadata": {
  "kernelspec": {
   "display_name": "Python 3",
   "language": "python",
   "name": "python3"
  },
  "language_info": {
   "codemirror_mode": {
    "name": "ipython",
    "version": 3
   },
   "file_extension": ".py",
   "mimetype": "text/x-python",
   "name": "python",
   "nbconvert_exporter": "python",
   "pygments_lexer": "ipython3",
   "version": "3.11.7"
  }
 },
 "nbformat": 4,
 "nbformat_minor": 5
}
